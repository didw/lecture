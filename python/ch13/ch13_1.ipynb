{
 "cells": [
  {
   "cell_type": "code",
   "execution_count": 1,
   "metadata": {
    "collapsed": true
   },
   "outputs": [],
   "source": [
    "import urllib\n",
    "import json"
   ]
  },
  {
   "cell_type": "code",
   "execution_count": 3,
   "metadata": {
    "collapsed": false
   },
   "outputs": [
    {
     "name": "stdout",
     "output_type": "stream",
     "text": [
      "Enter location: http://python-data.dr-chuck.net/comments_42.json\n",
      "Retrieving http://python-data.dr-chuck.net/comments_42.json\n",
      "Retrieved 2726 characters\n",
      "Count:  50\n",
      "Sum:  2482\n",
      "Enter location: http://python-data.dr-chuck.net/comments_209018.json\n",
      "Retrieving http://python-data.dr-chuck.net/comments_209018.json\n",
      "Retrieved 2728 characters\n",
      "Count:  50\n",
      "Sum:  2255\n",
      "Enter location: \n"
     ]
    }
   ],
   "source": [
    "while True:\n",
    "    address = raw_input('Enter location: ')\n",
    "    if (len(address) < 1):\n",
    "        break;\n",
    "    print 'Retrieving', address\n",
    "    data = urllib.urlopen(address).read()\n",
    "    print 'Retrieved', len(data), 'characters'\n",
    "    c = 0\n",
    "    s = 0\n",
    "    js = json.loads(data)\n",
    "    for l in js[\"comments\"]:\n",
    "        c += 1\n",
    "        s += int(l[\"count\"])\n",
    "    print 'Count: ', c\n",
    "    print 'Sum: ', s"
   ]
  }
 ],
 "metadata": {
  "kernelspec": {
   "display_name": "python2",
   "language": "python",
   "name": "python2"
  },
  "language_info": {
   "codemirror_mode": {
    "name": "ipython",
    "version": 2
   },
   "file_extension": ".py",
   "mimetype": "text/x-python",
   "name": "python",
   "nbconvert_exporter": "python",
   "pygments_lexer": "ipython2",
   "version": "2.7.6"
  }
 },
 "nbformat": 4,
 "nbformat_minor": 0
}
