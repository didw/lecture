{
 "cells": [
  {
   "cell_type": "code",
   "execution_count": 1,
   "metadata": {
    "collapsed": true
   },
   "outputs": [],
   "source": [
    "import urllib\n",
    "import json"
   ]
  },
  {
   "cell_type": "code",
   "execution_count": 10,
   "metadata": {
    "collapsed": true
   },
   "outputs": [],
   "source": [
    "#serviceurl = 'http://maps.googleapis.com/maps/api/geocode/json?'\n",
    "serviceurl = 'http://python-data.dr-chuck.net/geojson?'"
   ]
  },
  {
   "cell_type": "markdown",
   "metadata": {},
   "source": [
    "- Enter location: South Federal University \n",
    "- Retrieving http://...\n",
    "- Retrieved 2101 characters\n",
    "- Place id ChIJJ8oO7_B_bIcR2AlhC8nKlok "
   ]
  },
  {
   "cell_type": "code",
   "execution_count": 11,
   "metadata": {
    "collapsed": false
   },
   "outputs": [
    {
     "name": "stdout",
     "output_type": "stream",
     "text": [
      "Enter location: George Mason University\n",
      "Retrieving http://maps.googleapis.com/maps/api/geocode/json?sensor=false&address=George+Mason+University\n",
      "Retrieved 1977 characters\n",
      "{\n",
      "  \"status\": \"OK\", \n",
      "  \"results\": [\n",
      "    {\n",
      "      \"geometry\": {\n",
      "        \"location\": {\n",
      "          \"lat\": 38.83419, \n",
      "          \"lng\": -77.307587\n",
      "        }, \n",
      "        \"viewport\": {\n",
      "          \"northeast\": {\n",
      "            \"lat\": 38.8355389802915, \n",
      "            \"lng\": -77.3062380197085\n",
      "          }, \n",
      "          \"southwest\": {\n",
      "            \"lat\": 38.8328410197085, \n",
      "            \"lng\": -77.30893598029151\n",
      "          }\n",
      "        }, \n",
      "        \"location_type\": \"APPROXIMATE\"\n",
      "      }, \n",
      "      \"address_components\": [\n",
      "        {\n",
      "          \"long_name\": \"George Mason University\", \n",
      "          \"types\": [\n",
      "            \"point_of_interest\", \n",
      "            \"establishment\"\n",
      "          ], \n",
      "          \"short_name\": \"George Mason University\"\n",
      "        }, \n",
      "        {\n",
      "          \"long_name\": \"Braddock\", \n",
      "          \"types\": [\n",
      "            \"administrative_area_level_3\", \n",
      "            \"political\"\n",
      "          ], \n",
      "          \"short_name\": \"Braddock\"\n",
      "        }, \n",
      "        {\n",
      "          \"long_name\": \"Fairfax County\", \n",
      "          \"types\": [\n",
      "            \"administrative_area_level_2\", \n",
      "            \"political\"\n",
      "          ], \n",
      "          \"short_name\": \"Fairfax County\"\n",
      "        }, \n",
      "        {\n",
      "          \"long_name\": \"Virginia\", \n",
      "          \"types\": [\n",
      "            \"administrative_area_level_1\", \n",
      "            \"political\"\n",
      "          ], \n",
      "          \"short_name\": \"VA\"\n",
      "        }, \n",
      "        {\n",
      "          \"long_name\": \"United States\", \n",
      "          \"types\": [\n",
      "            \"country\", \n",
      "            \"political\"\n",
      "          ], \n",
      "          \"short_name\": \"US\"\n",
      "        }, \n",
      "        {\n",
      "          \"long_name\": \"22030\", \n",
      "          \"types\": [\n",
      "            \"postal_code\"\n",
      "          ], \n",
      "          \"short_name\": \"22030\"\n",
      "        }\n",
      "      ], \n",
      "      \"place_id\": \"ChIJ6es3mopOtokRX3IAU0Ubwe0\", \n",
      "      \"formatted_address\": \"George Mason University, Braddock, VA 22030, USA\", \n",
      "      \"types\": [\n",
      "        \"bus_station\", \n",
      "        \"transit_station\", \n",
      "        \"point_of_interest\", \n",
      "        \"establishment\"\n",
      "      ]\n",
      "    }\n",
      "  ]\n",
      "}\n",
      "lat 38.83419 lng -77.307587\n",
      "George Mason University, Braddock, VA 22030, USA\n",
      "Enter location: \n"
     ]
    }
   ],
   "source": [
    "while True:\n",
    "    address = raw_input('Enter location: ')\n",
    "    if (len(address)<1): break;\n",
    "    url = serviceurl + urllib.urlencode({'sensor':'false', 'address': address})\n",
    "    print 'Retrieving', url\n",
    "    data = urllib.urlopen(url).read()\n",
    "    print 'Retrieved', len(data), 'characters'\n",
    "    \n",
    "    try: js = json.loads(str(data))\n",
    "    except: js = None\n",
    "    if 'status' not in js or js['status'] != 'OK':\n",
    "        print '==== Failure To Retrieve'\n",
    "        print data\n",
    "        continue\n",
    "    \n",
    "    # print json.dumps(js, indent=2)\n",
    "    print 'Place id', js[\"results\"][0][\"place_id\"]\n",
    "    \n",
    "    #lat = js[\"results\"][0][\"geometry\"][\"location\"][\"lat\"]\n",
    "    #lng = js[\"results\"][0][\"geometry\"][\"location\"][\"lng\"]\n",
    "    #print 'lat',lat,'lng',lng\n",
    "    #location = js['results'][0]['formatted_address']\n",
    "    #print location"
   ]
  }
 ],
 "metadata": {
  "kernelspec": {
   "display_name": "python2",
   "language": "python",
   "name": "python2"
  },
  "language_info": {
   "codemirror_mode": {
    "name": "ipython",
    "version": 2
   },
   "file_extension": ".py",
   "mimetype": "text/x-python",
   "name": "python",
   "nbconvert_exporter": "python",
   "pygments_lexer": "ipython2",
   "version": "2.7.6"
  }
 },
 "nbformat": 4,
 "nbformat_minor": 0
}
