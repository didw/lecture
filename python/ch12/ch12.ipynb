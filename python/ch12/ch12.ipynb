{
 "cells": [
  {
   "cell_type": "code",
   "execution_count": 1,
   "metadata": {
    "collapsed": true
   },
   "outputs": [],
   "source": [
    "import urllib\n",
    "import xml.etree.ElementTree as ET"
   ]
  },
  {
   "cell_type": "code",
   "execution_count": 2,
   "metadata": {
    "collapsed": false
   },
   "outputs": [
    {
     "name": "stdout",
     "output_type": "stream",
     "text": [
      "Enter location: http://python-data.dr-chuck.net/comments_209014.xml \n",
      "Retrieving http://python-data.dr-chuck.net/comments_209014.xml \n",
      "Retrieved 4213 characters\n",
      "Count:  50\n",
      "Sum:  2568\n",
      "Enter location: \n"
     ]
    }
   ],
   "source": [
    "while True:\n",
    "    address = raw_input('Enter location: ')\n",
    "    if len(address) < 1:\n",
    "        break;\n",
    "    print 'Retrieving', address\n",
    "    uh = urllib.urlopen(address)\n",
    "    data = uh.read()\n",
    "    print 'Retrieved',len(data),'characters'\n",
    "    tree = ET.fromstring(data)\n",
    "\n",
    "    counts = tree.findall('.//count')\n",
    "    print 'Count: ', len(counts)\n",
    "    res = 0\n",
    "    for i in range(len(counts)):\n",
    "        res += int(counts[i].text)\n",
    "    print 'Sum: ', res"
   ]
  },
  {
   "cell_type": "code",
   "execution_count": null,
   "metadata": {
    "collapsed": true
   },
   "outputs": [],
   "source": []
  }
 ],
 "metadata": {
  "kernelspec": {
   "display_name": "Python 2",
   "language": "python",
   "name": "python2"
  },
  "language_info": {
   "codemirror_mode": {
    "name": "ipython",
    "version": 2
   },
   "file_extension": ".py",
   "mimetype": "text/x-python",
   "name": "python",
   "nbconvert_exporter": "python",
   "pygments_lexer": "ipython2",
   "version": "2.7.6"
  }
 },
 "nbformat": 4,
 "nbformat_minor": 0
}
