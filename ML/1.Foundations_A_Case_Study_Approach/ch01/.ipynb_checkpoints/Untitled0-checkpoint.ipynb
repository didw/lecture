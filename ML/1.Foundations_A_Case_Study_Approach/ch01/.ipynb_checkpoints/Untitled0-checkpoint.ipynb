{
 "metadata": {
  "name": "",
  "signature": "sha256:0cd8f1a356ddd2b98c8bd23cfa9024293867af5254494e9fa55e9aa4068297a7"
 },
 "nbformat": 3,
 "nbformat_minor": 0,
 "worksheets": []
}